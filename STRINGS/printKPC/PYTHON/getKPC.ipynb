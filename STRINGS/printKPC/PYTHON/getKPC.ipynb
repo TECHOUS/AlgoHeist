{
 "cells": [
  {
   "cell_type": "code",
   "execution_count": 1,
   "metadata": {},
   "outputs": [
    {
     "name": "stdout",
     "output_type": "stream",
     "text": [
      "enter 67\n",
      "['pt', 'pu', 'qt', 'qu', 'rt', 'ru', 'st', 'su']\n"
     ]
    }
   ],
   "source": [
    "def gkpc(str , code):\n",
    "    if(len(str) == 0):\n",
    "        baseans =[]\n",
    "        baseans.append('')\n",
    "        return baseans\n",
    "    \n",
    "    recans = gkpc(str[1:] , code)\n",
    "    idx = str[0]\n",
    "    idx = ord(idx) - ord('0')\n",
    "    myans = []\n",
    "    word = list(code[idx])\n",
    "    for i in range(0 , len(word)):\n",
    "        for j in range (0 , len(recans)):\n",
    "            myans.append(word[i] + recans[j])\n",
    "            \n",
    "    return myans\n",
    "\n",
    "code = ['.;' , 'abc' , ' def' , 'ghi' , 'jkl' , 'mno', 'pqrs' , 'tu' , 'vwx' , 'yz']\n",
    "a =  input('enter ')\n",
    "ans = gkpc(a  , code  )\n",
    "print(ans)"
   ]
  },
  {
   "cell_type": "code",
   "execution_count": 2,
   "metadata": {},
   "outputs": [],
   "source": [
    "#         EXAMPLEE ::\n",
    "#                 FOR 786\n",
    "#         ['tvp', 'tvq', 'tvr', 'tvs', 'twp', 'twq', 'twr', 'tws', 'txp', 'txq',\n",
    "#          'txr', 'txs', 'uvp', 'uvq', 'uvr', 'uvs', 'uwp', 'uwq', 'uwr', 'uws', 'uxp', 'uxq', 'uxr', 'uxs']\n"
   ]
  },
  {
   "cell_type": "code",
   "execution_count": null,
   "metadata": {},
   "outputs": [],
   "source": []
  }
 ],
 "metadata": {
  "kernelspec": {
   "display_name": "Python 3",
   "language": "python",
   "name": "python3"
  },
  "language_info": {
   "codemirror_mode": {
    "name": "ipython",
    "version": 3
   },
   "file_extension": ".py",
   "mimetype": "text/x-python",
   "name": "python",
   "nbconvert_exporter": "python",
   "pygments_lexer": "ipython3",
   "version": "3.7.6"
  }
 },
 "nbformat": 4,
 "nbformat_minor": 4
}
